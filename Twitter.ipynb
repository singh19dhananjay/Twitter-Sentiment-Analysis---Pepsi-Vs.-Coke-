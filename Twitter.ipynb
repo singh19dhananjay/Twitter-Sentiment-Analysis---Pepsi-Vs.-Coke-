{
  "cells": [
    {
      "cell_type": "code",
      "execution_count": null,
      "metadata": {
        "colab": {
          "base_uri": "https://localhost:8080/"
        },
        "id": "4p0ntioP0B_F",
        "outputId": "a3d29f4c-d7a3-4e76-9b91-5c896b8cb878"
      },
      "outputs": [
        {
          "output_type": "stream",
          "name": "stdout",
          "text": [
            "Requirement already satisfied: tweepy in /usr/local/lib/python3.7/dist-packages (3.10.0)\n",
            "Requirement already satisfied: requests-oauthlib>=0.7.0 in /usr/local/lib/python3.7/dist-packages (from tweepy) (1.3.1)\n",
            "Requirement already satisfied: requests[socks]>=2.11.1 in /usr/local/lib/python3.7/dist-packages (from tweepy) (2.23.0)\n",
            "Requirement already satisfied: six>=1.10.0 in /usr/local/lib/python3.7/dist-packages (from tweepy) (1.15.0)\n",
            "Requirement already satisfied: oauthlib>=3.0.0 in /usr/local/lib/python3.7/dist-packages (from requests-oauthlib>=0.7.0->tweepy) (3.2.0)\n",
            "Requirement already satisfied: idna<3,>=2.5 in /usr/local/lib/python3.7/dist-packages (from requests[socks]>=2.11.1->tweepy) (2.10)\n",
            "Requirement already satisfied: certifi>=2017.4.17 in /usr/local/lib/python3.7/dist-packages (from requests[socks]>=2.11.1->tweepy) (2021.10.8)\n",
            "Requirement already satisfied: urllib3!=1.25.0,!=1.25.1,<1.26,>=1.21.1 in /usr/local/lib/python3.7/dist-packages (from requests[socks]>=2.11.1->tweepy) (1.24.3)\n",
            "Requirement already satisfied: chardet<4,>=3.0.2 in /usr/local/lib/python3.7/dist-packages (from requests[socks]>=2.11.1->tweepy) (3.0.4)\n",
            "Requirement already satisfied: PySocks!=1.5.7,>=1.5.6 in /usr/local/lib/python3.7/dist-packages (from requests[socks]>=2.11.1->tweepy) (1.7.1)\n"
          ]
        }
      ],
      "source": [
        "#installing tweepy library\n",
        "!pip install tweepy"
      ]
    },
    {
      "cell_type": "code",
      "execution_count": null,
      "metadata": {
        "colab": {
          "base_uri": "https://localhost:8080/"
        },
        "id": "IzAy_4mg0nku",
        "outputId": "425a3c5d-8d80-4c73-dcc4-54dde2b00f07"
      },
      "outputs": [
        {
          "output_type": "stream",
          "name": "stdout",
          "text": [
            "Collecting config\n",
            "  Downloading config-0.5.1-py2.py3-none-any.whl (20 kB)\n",
            "Installing collected packages: config\n",
            "Successfully installed config-0.5.1\n"
          ]
        }
      ],
      "source": [
        "#installing config\n",
        "!pip install config"
      ]
    },
    {
      "cell_type": "code",
      "execution_count": null,
      "metadata": {
        "colab": {
          "base_uri": "https://localhost:8080/"
        },
        "id": "3GsnGRcPcWN9",
        "outputId": "af2dc281-d23b-47ab-9a36-9b30719be816"
      },
      "outputs": [
        {
          "output_type": "stream",
          "name": "stdout",
          "text": [
            "Requirement already satisfied: textblob in /usr/local/lib/python3.7/dist-packages (0.15.3)\n",
            "Requirement already satisfied: nltk>=3.1 in /usr/local/lib/python3.7/dist-packages (from textblob) (3.2.5)\n",
            "Requirement already satisfied: six in /usr/local/lib/python3.7/dist-packages (from nltk>=3.1->textblob) (1.15.0)\n"
          ]
        }
      ],
      "source": [
        "#installing textblob\n",
        "!pip install textblob"
      ]
    },
    {
      "cell_type": "code",
      "execution_count": null,
      "metadata": {
        "colab": {
          "base_uri": "https://localhost:8080/"
        },
        "id": "uig2QviuhSYr",
        "outputId": "8e96cb76-4e38-46ad-ab83-cb10e540a1c1"
      },
      "outputs": [
        {
          "output_type": "stream",
          "name": "stdout",
          "text": [
            "Collecting preprocessor\n",
            "  Downloading preprocessor-1.1.3.tar.gz (4.2 kB)\n",
            "Building wheels for collected packages: preprocessor\n",
            "  Building wheel for preprocessor (setup.py) ... \u001b[?25l\u001b[?25hdone\n",
            "  Created wheel for preprocessor: filename=preprocessor-1.1.3-py3-none-any.whl size=4477 sha256=67a40b9442ad252fe5086db3eaddefe504a15d494a65e95ae3855a8542592b7f\n",
            "  Stored in directory: /root/.cache/pip/wheels/0e/b7/36/aa37256db62b4bfd35a6f1b5536e9ba843f257b79dcbf3d5f1\n",
            "Successfully built preprocessor\n",
            "Installing collected packages: preprocessor\n",
            "Successfully installed preprocessor-1.1.3\n"
          ]
        }
      ],
      "source": [
        "#installing preprocessor\n",
        "!pip install preprocessor"
      ]
    },
    {
      "cell_type": "markdown",
      "metadata": {
        "id": "nDdP5X32hKOH"
      },
      "source": [
        "Getting tweets"
      ]
    },
    {
      "cell_type": "code",
      "execution_count": null,
      "metadata": {
        "id": "V9lk0XABhMVg"
      },
      "outputs": [],
      "source": [
        "#importing necessary libraries\n",
        "from tweepy import OAuthHandler\n",
        "from tweepy.streaming import Stream\n",
        "import tweepy as tw\n",
        "import json\n",
        "import pandas as pd\n",
        "import csv\n",
        "import re\n",
        "from textblob import TextBlob\n",
        "import string\n",
        "import preprocessor as p\n",
        "import os\n",
        "import time"
      ]
    },
    {
      "cell_type": "code",
      "execution_count": null,
      "metadata": {
        "id": "P3Lg_kuShbam"
      },
      "outputs": [],
      "source": [
        "#declaring the twitter consumer and access tokens\n",
        "TWITTER_CONSUMER_KEY = 'CNOu5SorWOir7IkNn27WN8vx2'\n",
        "TWITTER_CONSUMER_SECRET = 'ZlyEm7qNp7ELyhxkBiJyryO0zRRnOzEwrG7CrQkOCBhHv8CLm1'\n",
        "TWITTER_ACCESS_TOKEN = '1403047363325796355-XVXZ5zUAEZtl2cFt3shXndGx57IE6S'\n",
        "TWITTER_ACCESS_TOKEN_SECRET = 'DCnQpZIdL5xz4nie3FaF0ja3HRWg0irY84WL3iuTfsGwe'\n",
        "auth = tw.OAuthHandler(TWITTER_CONSUMER_KEY, TWITTER_CONSUMER_SECRET)\n",
        "auth.set_access_token(TWITTER_ACCESS_TOKEN, TWITTER_ACCESS_TOKEN_SECRET)\n",
        "api = tw.API(auth, wait_on_rate_limit=True)"
      ]
    },
    {
      "cell_type": "code",
      "execution_count": null,
      "metadata": {
        "id": "e_PiqWjShg6V"
      },
      "outputs": [],
      "source": [
        "#defining function to scrap tweets using api.search\n",
        "def scraptweets(search_words, numTweets, numRuns):\n",
        "    \n",
        "    # Define a for-loop to generate tweets at regular intervals\n",
        "    # We cannot make large API call in one go. Hence, let's try T times\n",
        "    \n",
        "    # Define a pandas dataframe to store the date:\n",
        "    db_tweets = pd.DataFrame(columns = ['username', 'acctdesc', 'location', 'following',\n",
        "                                        'followers', 'totaltweets', 'usercreatedts', 'tweetcreatedts',\n",
        "                                        'retweetcount', 'text', 'hashtags']\n",
        "                                )\n",
        "    program_start = time.time()\n",
        "    for i in range(0, numRuns):\n",
        "        # We will time how long it takes to scrape tweets for each run:\n",
        "        start_run = time.time()\n",
        "        \n",
        "        # Collect tweets using the Cursor object\n",
        "        # .Cursor() returns an object that you can iterate or loop over to access the data collected.\n",
        "        # Each item in the iterator has various attributes that you can access to get information about each tweet\n",
        "        tweets = tw.Cursor(api.search, q=search_words, lang=\"en\", tweet_mode='extended').items(numTweets)\n",
        "        \n",
        "# Store these tweets into a python list\n",
        "        tweet_list = [tweet for tweet in tweets]\n",
        "# Obtain the following info (methods to call them out):\n",
        "        # user.screen_name - twitter handle\n",
        "        # user.description - description of account\n",
        "        # user.location - where is he tweeting from\n",
        "        # user.friends_count - no. of other users that user is following (following)\n",
        "        # user.followers_count - no. of other users who are following this user (followers)\n",
        "        # user.statuses_count - total tweets by user\n",
        "        # user.created_at - when the user account was created\n",
        "        # created_at - when the tweet was created\n",
        "        # retweet_count - no. of retweets\n",
        "        # (deprecated) user.favourites_count - probably total no. of tweets that is favourited by user\n",
        "        # retweeted_status.full_text - full text of the tweet\n",
        "        # tweet.entities['hashtags'] - hashtags in the tweet\n",
        "# Begin scraping the tweets individually:\n",
        "        noTweets = 0\n",
        "# Pull the values\n",
        "        for tweet in tweet_list:\n",
        "          username = tweet.user.screen_name\n",
        "          acctdesc = tweet.user.description\n",
        "          location = tweet.user.location\n",
        "          following = tweet.user.friends_count\n",
        "          followers = tweet.user.followers_count\n",
        "          totaltweets = tweet.user.statuses_count\n",
        "          usercreatedts = tweet.user.created_at\n",
        "          tweetcreatedts = tweet.created_at\n",
        "          retweetcount = tweet.retweet_count\n",
        "          hashtags = tweet.entities['hashtags']\n",
        "          try:\n",
        "            text = tweet.retweeted_status.full_text\n",
        "# Not a Retweet\n",
        "          except AttributeError:  \n",
        "            text = tweet.full_text\n",
        "# Add the 11 variables to the empty list - ith_tweet:\n",
        "          ith_tweet = [username, acctdesc, location, following, followers, totaltweets,\n",
        "                         usercreatedts, tweetcreatedts, retweetcount, text, hashtags]\n",
        "# Append to dataframe - db_tweets\n",
        "          db_tweets.loc[len(db_tweets)] = ith_tweet\n",
        "# increase counter - noTweets  \n",
        "          noTweets += 1\n",
        "        \n",
        "        # Run ended:\n",
        "          end_run = time.time()\n",
        "          duration_run = round((end_run-start_run)/60, 2)\n",
        "        \n",
        "          print('no. of tweets scraped for run {} is {}'.format(i + 1, noTweets))\n",
        "          print('time take for {} run to complete is {} mins'.format(i+1, duration_run))\n",
        "        \n",
        "        time.sleep(920) #15 minute sleep time\n",
        "# Once all runs have completed, save them to a single csv file:\n",
        "    from datetime import datetime\n",
        "    \n",
        "    # Obtain timestamp in a readable format\n",
        "    to_csv_timestamp = datetime.today().strftime('%Y%m%d_%H%M%S')\n",
        "# Define working path and filename\n",
        "    #path = os.getcwd()\n",
        "    filename = '/content/drive/MyDrive/Big_Data_Project/tweets.csv'\n",
        "# Store dataframe in csv with creation date timestamp\n",
        "    db_tweets.to_csv(filename, index = False)\n",
        "    \n",
        "    program_end = time.time()\n",
        "    print('Scraping has completed!')\n",
        "    print('Total time taken to scrap is {} minutes.'.format(round(program_end - program_start)/60, 2))"
      ]
    },
    {
      "cell_type": "code",
      "execution_count": null,
      "metadata": {
        "id": "fVXlHHnHjDh6"
      },
      "outputs": [],
      "source": [
        "#initialise function parameters\n",
        "search_words = \"coke -filter:retweets\"\n",
        "#search_words = \"pepsi -filter:retweets\"\n",
        "#search_words = \"cokevspepsi -filter:retweets\"\n",
        "#search_words = \"pepsivscoke -filter:retweets\"\n",
        "#date_since = \"2003-01-01\"\n",
        "numTweets = 2500\n",
        "numRuns = 8\n",
        "#call the function scraptweets\n",
        "scraptweets(search_words, numTweets, numRuns)"
      ]
    }
  ],
  "metadata": {
    "colab": {
      "collapsed_sections": [],
      "name": "Twitter.ipynb",
      "provenance": []
    },
    "kernelspec": {
      "display_name": "Python 3",
      "language": "python",
      "name": "python3"
    },
    "language_info": {
      "codemirror_mode": {
        "name": "ipython",
        "version": 3
      },
      "file_extension": ".py",
      "mimetype": "text/x-python",
      "name": "python",
      "nbconvert_exporter": "python",
      "pygments_lexer": "ipython3",
      "version": "3.8.3"
    }
  },
  "nbformat": 4,
  "nbformat_minor": 0
}